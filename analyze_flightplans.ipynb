{
 "cells": [
  {
   "cell_type": "code",
   "execution_count": 1,
   "metadata": {},
   "outputs": [
    {
     "data": {
      "text/html": [
       "<style>\n",
       "    .container { width: 99%; }\n",
       "</style>\n"
      ],
      "text/plain": [
       "<IPython.core.display.HTML object>"
      ]
     },
     "metadata": {},
     "output_type": "display_data"
    }
   ],
   "source": [
    "%%HTML\n",
    "<style>\n",
    "    .container { width: 99%; }\n",
    "</style>"
   ]
  },
  {
   "cell_type": "code",
   "execution_count": 2,
   "metadata": {},
   "outputs": [],
   "source": [
    "%run 'src/timestamps.py'\n",
    "\n",
    "create_timestamps()"
   ]
  },
  {
   "cell_type": "code",
   "execution_count": 3,
   "metadata": {},
   "outputs": [],
   "source": [
    "import pandas as pd\n",
    "import json\n",
    "\n",
    "def load_dataframe(file):\n",
    "    return pd.read_pickle('dataframes/' + file + '.pickle')"
   ]
  },
  {
   "cell_type": "code",
   "execution_count": 4,
   "metadata": {},
   "outputs": [],
   "source": [
    "df = load_dataframe('df_flightplans')"
   ]
  },
  {
   "cell_type": "code",
   "execution_count": 5,
   "metadata": {},
   "outputs": [
    {
     "data": {
      "text/html": [
       "<div>\n",
       "<style scoped>\n",
       "    .dataframe tbody tr th:only-of-type {\n",
       "        vertical-align: middle;\n",
       "    }\n",
       "\n",
       "    .dataframe tbody tr th {\n",
       "        vertical-align: top;\n",
       "    }\n",
       "\n",
       "    .dataframe thead th {\n",
       "        text-align: right;\n",
       "    }\n",
       "</style>\n",
       "<table border=\"1\" class=\"dataframe\">\n",
       "  <thead>\n",
       "    <tr style=\"text-align: right;\">\n",
       "      <th></th>\n",
       "      <th>date_time</th>\n",
       "      <th>callsign</th>\n",
       "      <th>ssr</th>\n",
       "      <th>rules</th>\n",
       "      <th>aircraft</th>\n",
       "      <th>wvc</th>\n",
       "      <th>equipment</th>\n",
       "      <th>origin</th>\n",
       "      <th>eobt</th>\n",
       "      <th>route</th>\n",
       "      <th>destination</th>\n",
       "      <th>eet</th>\n",
       "      <th>eta</th>\n",
       "      <th>status</th>\n",
       "      <th>registration</th>\n",
       "      <th>icao4444</th>\n",
       "    </tr>\n",
       "  </thead>\n",
       "  <tbody>\n",
       "    <tr>\n",
       "      <th>0</th>\n",
       "      <td>2020-11-26 05:16:22</td>\n",
       "      <td>EWG8XZ</td>\n",
       "      <td>A1411</td>\n",
       "      <td>IS</td>\n",
       "      <td>A320</td>\n",
       "      <td>M</td>\n",
       "      <td>S/S</td>\n",
       "      <td>LFPG</td>\n",
       "      <td>1606089600000</td>\n",
       "      <td>N0431F370 DH632</td>\n",
       "      <td>EDDH</td>\n",
       "      <td>7200000</td>\n",
       "      <td>1606096800000</td>\n",
       "      <td>closed</td>\n",
       "      <td>DAAA</td>\n",
       "      <td>FPL-EWG8XZ/A1411-IS-A320/M-S/S-LFPG0000-N0431F...</td>\n",
       "    </tr>\n",
       "    <tr>\n",
       "      <th>1</th>\n",
       "      <td>2020-11-26 05:16:22</td>\n",
       "      <td>EWG7753</td>\n",
       "      <td>A1505</td>\n",
       "      <td>IS</td>\n",
       "      <td>A320</td>\n",
       "      <td>M</td>\n",
       "      <td>S/S</td>\n",
       "      <td>LOWW</td>\n",
       "      <td>1606093200000</td>\n",
       "      <td>N0431F370 DH612</td>\n",
       "      <td>EDDH</td>\n",
       "      <td>7200000</td>\n",
       "      <td>1606100400000</td>\n",
       "      <td>closed</td>\n",
       "      <td>DAAA</td>\n",
       "      <td>FPL-EWG7753/A1505-IS-A320/M-S/S-LOWW0100-N0431...</td>\n",
       "    </tr>\n",
       "    <tr>\n",
       "      <th>2</th>\n",
       "      <td>2020-11-26 05:16:22</td>\n",
       "      <td>THY6NP</td>\n",
       "      <td>A1461</td>\n",
       "      <td>IS</td>\n",
       "      <td>A319</td>\n",
       "      <td>M</td>\n",
       "      <td>S/S</td>\n",
       "      <td>LTBA</td>\n",
       "      <td>1606096800000</td>\n",
       "      <td>N0431F370 DH658</td>\n",
       "      <td>EDDH</td>\n",
       "      <td>7200000</td>\n",
       "      <td>1606104000000</td>\n",
       "      <td>closed</td>\n",
       "      <td>TCAA</td>\n",
       "      <td>FPL-THY6NP/A1461-IS-A319/M-S/S-LTBA0200-N0431F...</td>\n",
       "    </tr>\n",
       "    <tr>\n",
       "      <th>3</th>\n",
       "      <td>2020-11-26 05:16:22</td>\n",
       "      <td>EWG7761</td>\n",
       "      <td>A1483</td>\n",
       "      <td>IS</td>\n",
       "      <td>A319</td>\n",
       "      <td>M</td>\n",
       "      <td>S/S</td>\n",
       "      <td>LSZH</td>\n",
       "      <td>1606100400000</td>\n",
       "      <td>N0431F370 DH612</td>\n",
       "      <td>EDDH</td>\n",
       "      <td>7200000</td>\n",
       "      <td>1606107600000</td>\n",
       "      <td>closed</td>\n",
       "      <td>DAAA</td>\n",
       "      <td>FPL-EWG7761/A1483-IS-A319/M-S/S-LSZH0300-N0431...</td>\n",
       "    </tr>\n",
       "    <tr>\n",
       "      <th>4</th>\n",
       "      <td>2020-11-26 05:16:22</td>\n",
       "      <td>AHO543V</td>\n",
       "      <td>A1662</td>\n",
       "      <td>IS</td>\n",
       "      <td>BE20</td>\n",
       "      <td>L</td>\n",
       "      <td>S/S</td>\n",
       "      <td>EDDL</td>\n",
       "      <td>1606104000000</td>\n",
       "      <td>N0431F370 DH632</td>\n",
       "      <td>EDDH</td>\n",
       "      <td>7200000</td>\n",
       "      <td>1606111200000</td>\n",
       "      <td>closed</td>\n",
       "      <td>DIAA</td>\n",
       "      <td>FPL-AHO543V/A1662-IS-BE20/L-S/S-EDDL0400-N0431...</td>\n",
       "    </tr>\n",
       "    <tr>\n",
       "      <th>...</th>\n",
       "      <td>...</td>\n",
       "      <td>...</td>\n",
       "      <td>...</td>\n",
       "      <td>...</td>\n",
       "      <td>...</td>\n",
       "      <td>...</td>\n",
       "      <td>...</td>\n",
       "      <td>...</td>\n",
       "      <td>...</td>\n",
       "      <td>...</td>\n",
       "      <td>...</td>\n",
       "      <td>...</td>\n",
       "      <td>...</td>\n",
       "      <td>...</td>\n",
       "      <td>...</td>\n",
       "      <td>...</td>\n",
       "    </tr>\n",
       "    <tr>\n",
       "      <th>89343</th>\n",
       "      <td>2020-11-27 12:56:22</td>\n",
       "      <td>DLH008</td>\n",
       "      <td>A1414</td>\n",
       "      <td>IS</td>\n",
       "      <td>A340</td>\n",
       "      <td>M</td>\n",
       "      <td>S/S</td>\n",
       "      <td>EDDH</td>\n",
       "      <td>1606503600000</td>\n",
       "      <td>N0431F370 BASUM1G</td>\n",
       "      <td>KJFK</td>\n",
       "      <td>7200000</td>\n",
       "      <td>1606510800000</td>\n",
       "      <td>scheduled</td>\n",
       "      <td>DAHN</td>\n",
       "      <td>FPL-DLH008/A1414-IS-A340/M-S/S-EDDH1900-N0431F...</td>\n",
       "    </tr>\n",
       "    <tr>\n",
       "      <th>89344</th>\n",
       "      <td>2020-11-27 12:56:22</td>\n",
       "      <td>DLH9471</td>\n",
       "      <td>A1414</td>\n",
       "      <td>IS</td>\n",
       "      <td>A321</td>\n",
       "      <td>M</td>\n",
       "      <td>S/S</td>\n",
       "      <td>EDDH</td>\n",
       "      <td>1606507200000</td>\n",
       "      <td>N0431F370 BASUM1G</td>\n",
       "      <td>EDDN</td>\n",
       "      <td>7200000</td>\n",
       "      <td>1606514400000</td>\n",
       "      <td>scheduled</td>\n",
       "      <td>GAAA</td>\n",
       "      <td>FPL-DLH9471/A1414-IS-A321/M-S/S-EDDH2000-N0431...</td>\n",
       "    </tr>\n",
       "    <tr>\n",
       "      <th>89345</th>\n",
       "      <td>2020-11-27 12:56:22</td>\n",
       "      <td>DLH9284</td>\n",
       "      <td>A1414</td>\n",
       "      <td>IS</td>\n",
       "      <td>A319</td>\n",
       "      <td>M</td>\n",
       "      <td>S/S</td>\n",
       "      <td>EDDH</td>\n",
       "      <td>1606510800000</td>\n",
       "      <td>N0431F370 BASUM1G</td>\n",
       "      <td>EDDM</td>\n",
       "      <td>7200000</td>\n",
       "      <td>1606518000000</td>\n",
       "      <td>scheduled</td>\n",
       "      <td>GAAA</td>\n",
       "      <td>FPL-DLH9284/A1414-IS-A319/M-S/S-EDDH2100-N0431...</td>\n",
       "    </tr>\n",
       "    <tr>\n",
       "      <th>89346</th>\n",
       "      <td>2020-11-27 12:56:22</td>\n",
       "      <td>DECEC</td>\n",
       "      <td>A1414</td>\n",
       "      <td>IS</td>\n",
       "      <td>C172</td>\n",
       "      <td>M</td>\n",
       "      <td>S/S</td>\n",
       "      <td>EDDH</td>\n",
       "      <td>1606514400000</td>\n",
       "      <td>N0431F370 BASUM1G</td>\n",
       "      <td>DEVK</td>\n",
       "      <td>7200000</td>\n",
       "      <td>1606521600000</td>\n",
       "      <td>scheduled</td>\n",
       "      <td>DECE</td>\n",
       "      <td>FPL-DECEC/A1414-IS-C172/M-S/S-EDDH2200-N0431F3...</td>\n",
       "    </tr>\n",
       "    <tr>\n",
       "      <th>89347</th>\n",
       "      <td>2020-11-27 12:57:22</td>\n",
       "      <td>SIN39</td>\n",
       "      <td>A1414</td>\n",
       "      <td>IS</td>\n",
       "      <td>A380</td>\n",
       "      <td>M</td>\n",
       "      <td>S/S</td>\n",
       "      <td>EDDH</td>\n",
       "      <td>1606518000000</td>\n",
       "      <td>N0431F370 BASUM1G</td>\n",
       "      <td>WSSS</td>\n",
       "      <td>7200000</td>\n",
       "      <td>1606525200000</td>\n",
       "      <td>scheduled</td>\n",
       "      <td>FWWA</td>\n",
       "      <td>FPL-SIN39/A1414-IS-A380/M-S/S-EDDH2300-N0431F3...</td>\n",
       "    </tr>\n",
       "  </tbody>\n",
       "</table>\n",
       "<p>89348 rows × 16 columns</p>\n",
       "</div>"
      ],
      "text/plain": [
       "                 date_time callsign    ssr rules aircraft wvc equipment  \\\n",
       "0      2020-11-26 05:16:22   EWG8XZ  A1411    IS     A320   M       S/S   \n",
       "1      2020-11-26 05:16:22  EWG7753  A1505    IS     A320   M       S/S   \n",
       "2      2020-11-26 05:16:22   THY6NP  A1461    IS     A319   M       S/S   \n",
       "3      2020-11-26 05:16:22  EWG7761  A1483    IS     A319   M       S/S   \n",
       "4      2020-11-26 05:16:22  AHO543V  A1662    IS     BE20   L       S/S   \n",
       "...                    ...      ...    ...   ...      ...  ..       ...   \n",
       "89343  2020-11-27 12:56:22   DLH008  A1414    IS     A340   M       S/S   \n",
       "89344  2020-11-27 12:56:22  DLH9471  A1414    IS     A321   M       S/S   \n",
       "89345  2020-11-27 12:56:22  DLH9284  A1414    IS     A319   M       S/S   \n",
       "89346  2020-11-27 12:56:22    DECEC  A1414    IS     C172   M       S/S   \n",
       "89347  2020-11-27 12:57:22    SIN39  A1414    IS     A380   M       S/S   \n",
       "\n",
       "      origin           eobt              route destination      eet  \\\n",
       "0       LFPG  1606089600000    N0431F370 DH632        EDDH  7200000   \n",
       "1       LOWW  1606093200000    N0431F370 DH612        EDDH  7200000   \n",
       "2       LTBA  1606096800000    N0431F370 DH658        EDDH  7200000   \n",
       "3       LSZH  1606100400000    N0431F370 DH612        EDDH  7200000   \n",
       "4       EDDL  1606104000000    N0431F370 DH632        EDDH  7200000   \n",
       "...      ...            ...                ...         ...      ...   \n",
       "89343   EDDH  1606503600000  N0431F370 BASUM1G        KJFK  7200000   \n",
       "89344   EDDH  1606507200000  N0431F370 BASUM1G        EDDN  7200000   \n",
       "89345   EDDH  1606510800000  N0431F370 BASUM1G        EDDM  7200000   \n",
       "89346   EDDH  1606514400000  N0431F370 BASUM1G        DEVK  7200000   \n",
       "89347   EDDH  1606518000000  N0431F370 BASUM1G        WSSS  7200000   \n",
       "\n",
       "                 eta     status registration  \\\n",
       "0      1606096800000     closed         DAAA   \n",
       "1      1606100400000     closed         DAAA   \n",
       "2      1606104000000     closed         TCAA   \n",
       "3      1606107600000     closed         DAAA   \n",
       "4      1606111200000     closed         DIAA   \n",
       "...              ...        ...          ...   \n",
       "89343  1606510800000  scheduled         DAHN   \n",
       "89344  1606514400000  scheduled         GAAA   \n",
       "89345  1606518000000  scheduled         GAAA   \n",
       "89346  1606521600000  scheduled         DECE   \n",
       "89347  1606525200000  scheduled         FWWA   \n",
       "\n",
       "                                                icao4444  \n",
       "0      FPL-EWG8XZ/A1411-IS-A320/M-S/S-LFPG0000-N0431F...  \n",
       "1      FPL-EWG7753/A1505-IS-A320/M-S/S-LOWW0100-N0431...  \n",
       "2      FPL-THY6NP/A1461-IS-A319/M-S/S-LTBA0200-N0431F...  \n",
       "3      FPL-EWG7761/A1483-IS-A319/M-S/S-LSZH0300-N0431...  \n",
       "4      FPL-AHO543V/A1662-IS-BE20/L-S/S-EDDL0400-N0431...  \n",
       "...                                                  ...  \n",
       "89343  FPL-DLH008/A1414-IS-A340/M-S/S-EDDH1900-N0431F...  \n",
       "89344  FPL-DLH9471/A1414-IS-A321/M-S/S-EDDH2000-N0431...  \n",
       "89345  FPL-DLH9284/A1414-IS-A319/M-S/S-EDDH2100-N0431...  \n",
       "89346  FPL-DECEC/A1414-IS-C172/M-S/S-EDDH2200-N0431F3...  \n",
       "89347  FPL-SIN39/A1414-IS-A380/M-S/S-EDDH2300-N0431F3...  \n",
       "\n",
       "[89348 rows x 16 columns]"
      ]
     },
     "execution_count": 5,
     "metadata": {},
     "output_type": "execute_result"
    }
   ],
   "source": [
    "df"
   ]
  },
  {
   "cell_type": "code",
   "execution_count": 6,
   "metadata": {},
   "outputs": [
    {
     "data": {
      "text/plain": [
       "<AxesSubplot:xlabel='aircraft'>"
      ]
     },
     "execution_count": 6,
     "metadata": {},
     "output_type": "execute_result"
    },
    {
     "data": {
      "image/png": "[encoded data removed]",
      "text/plain": [
       "<Figure size 432x288 with 1 Axes>"
      ]
     },
     "metadata": {
      "needs_background": "light"
     },
     "output_type": "display_data"
    }
   ],
   "source": [
    "pt_aircraft = df.pivot_table(index=['aircraft'], aggfunc='size')\n",
    "pt_aircraft.plot.bar()"
   ]
  },
  {
   "cell_type": "code",
   "execution_count": 7,
   "metadata": {},
   "outputs": [
    {
     "data": {
      "text/plain": [
       "<AxesSubplot:xlabel='origin'>"
      ]
     },
     "execution_count": 7,
     "metadata": {},
     "output_type": "execute_result"
    },
    {
     "data": {
      "image/png": "[encoded data removed]",
      "text/plain": [
       "<Figure size 432x288 with 1 Axes>"
      ]
     },
     "metadata": {
      "needs_background": "light"
     },
     "output_type": "display_data"
    }
   ],
   "source": [
    "pt_origin = df.pivot_table(index=['origin'], aggfunc='size')\n",
    "pt_origin.plot.bar()"
   ]
  },
  {
   "cell_type": "code",
   "execution_count": 8,
   "metadata": {
    "scrolled": false
   },
   "outputs": [
    {
     "data": {
      "text/plain": [
       "<AxesSubplot:xlabel='destination'>"
      ]
     },
     "execution_count": 8,
     "metadata": {},
     "output_type": "execute_result"
    },
    {
     "data": {
      "image/png": "[encoded data removed]",
      "text/plain": [
       "<Figure size 432x288 with 1 Axes>"
      ]
     },
     "metadata": {
      "needs_background": "light"
     },
     "output_type": "display_data"
    }
   ],
   "source": [
    "pt_destination = df.pivot_table(index=['destination'], aggfunc='size')\n",
    "pt_destination.plot.bar()"
   ]
  },
  {
   "cell_type": "code",
   "execution_count": 9,
   "metadata": {},
   "outputs": [
    {
     "data": {
      "text/plain": [
       "status\n",
       "closed       65988\n",
       "departed      5008\n",
       "final          548\n",
       "in_block       274\n",
       "initiated     5104\n",
       "landed         274\n",
       "off-block      234\n",
       "scheduled    11918\n",
       "dtype: int64"
      ]
     },
     "execution_count": 9,
     "metadata": {},
     "output_type": "execute_result"
    }
   ],
   "source": [
    "pt_status = df.pivot_table(index=['status'], aggfunc='size')\n",
    "pt_status"
   ]
  },
  {
   "cell_type": "code",
   "execution_count": 10,
   "metadata": {
    "scrolled": true
   },
   "outputs": [
    {
     "data": {
      "text/plain": [
       "<AxesSubplot:ylabel='status'>"
      ]
     },
     "execution_count": 10,
     "metadata": {},
     "output_type": "execute_result"
    },
    {
     "data": {
      "image/png": "[encoded data removed]",
      "text/plain": [
       "<Figure size 432x288 with 1 Axes>"
      ]
     },
     "metadata": {
      "needs_background": "light"
     },
     "output_type": "display_data"
    }
   ],
   "source": [
    "pt_status.plot.barh()"
   ]
  },
  {
   "cell_type": "code",
   "execution_count": 11,
   "metadata": {
    "scrolled": false
   },
   "outputs": [
    {
     "data": {
      "text/plain": [
       "callsign\n",
       "AEE4205    1901\n",
       "AFL2346    1901\n",
       "AFR31XW    1901\n",
       "AHO543V    1901\n",
       "AUA176     1901\n",
       "BAW965     1901\n",
       "BEL5KR     1901\n",
       "CFG6HE     1901\n",
       "CSA545     1901\n",
       "DECEC      1901\n",
       "DEEMV      1901\n",
       "DESWM      1901\n",
       "DLH007     1901\n",
       "DLH008     1901\n",
       "DLH1M      1901\n",
       "DLH2215    1901\n",
       "DLH4X      1901\n",
       "DLH5KF     1901\n",
       "DLH5TN     1901\n",
       "DLH6CH     1901\n",
       "DLH7LX     1901\n",
       "DLH7MH     1901\n",
       "DLH8273    1901\n",
       "DLH9284    1901\n",
       "DLH9471    1901\n",
       "EIN39A     1901\n",
       "EWG036     1901\n",
       "EWG23U     1901\n",
       "EWG2HR     1901\n",
       "EWG6LR     1901\n",
       "EWG6RE     1901\n",
       "EWG6UC     1901\n",
       "EWG7753    1901\n",
       "EWG7761    1901\n",
       "EWG8461    1901\n",
       "EWG8XZ        1\n",
       "EWG8ZL     1901\n",
       "LIB8       1901\n",
       "LIB9       1901\n",
       "LOT40M     1901\n",
       "PGT6XJ     1901\n",
       "RYR5EW     1901\n",
       "SAS2645    1901\n",
       "SIN39      1901\n",
       "TAP568     1901\n",
       "THY6NP     1901\n",
       "TRA6062    1901\n",
       "UAE59      1901\n",
       "dtype: int64"
      ]
     },
     "execution_count": 11,
     "metadata": {},
     "output_type": "execute_result"
    }
   ],
   "source": [
    "pt_callsign = df.pivot_table(index=['callsign'], aggfunc='size')\n",
    "pt_callsign"
   ]
  }
 ],
 "metadata": {
  "kernelspec": {
   "display_name": "Python 3",
   "language": "python",
   "name": "python3"
  },
  "language_info": {
   "codemirror_mode": {
    "name": "ipython",
    "version": 3
   },
   "file_extension": ".py",
   "mimetype": "text/x-python",
   "name": "python",
   "nbconvert_exporter": "python",
   "pygments_lexer": "ipython3",
   "version": "3.8.5"
  }
 },
 "nbformat": 4,
 "nbformat_minor": 4
}
