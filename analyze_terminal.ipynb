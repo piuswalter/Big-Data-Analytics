{
 "cells": [
  {
   "cell_type": "code",
   "execution_count": 1,
   "metadata": {},
   "outputs": [
    {
     "data": {
      "text/html": [
       "<style>\n",
       "    .container { width: 99%; }\n",
       "</style>\n"
      ],
      "text/plain": [
       "<IPython.core.display.HTML object>"
      ]
     },
     "metadata": {},
     "output_type": "display_data"
    }
   ],
   "source": [
    "%%HTML\n",
    "<style>\n",
    "    .container { width: 99%; }\n",
    "</style>"
   ]
  },
  {
   "cell_type": "code",
   "execution_count": 2,
   "metadata": {},
   "outputs": [],
   "source": [
    "%run 'src/timestamps.py'\n",
    "\n",
    "create_timestamps()"
   ]
  },
  {
   "cell_type": "code",
   "execution_count": 3,
   "metadata": {},
   "outputs": [],
   "source": [
    "import pandas as pd\n",
    "import json\n",
    "\n",
    "def load_dataset(file):\n",
    "    return pd.read_json('datasets/' + file + '.json', lines=True)"
   ]
  },
  {
   "cell_type": "code",
   "execution_count": 4,
   "metadata": {},
   "outputs": [],
   "source": [
    "dataset = load_dataset('terminal')"
   ]
  },
  {
   "cell_type": "code",
   "execution_count": 5,
   "metadata": {},
   "outputs": [],
   "source": [
    "df = pd.DataFrame('', index=[0], columns=['level', 'message'])"
   ]
  },
  {
   "cell_type": "code",
   "execution_count": 6,
   "metadata": {},
   "outputs": [],
   "source": [
    "df_template = df.copy()"
   ]
  },
  {
   "cell_type": "code",
   "execution_count": 7,
   "metadata": {},
   "outputs": [
    {
     "name": "stdout",
     "output_type": "stream",
     "text": [
      "CPU times: user 1.71 s, sys: 67.9 ms, total: 1.78 s\n",
      "Wall time: 1.77 s\n"
     ]
    }
   ],
   "source": [
    "%%time\n",
    "for x in range(0, len(dataset)):\n",
    "    if x > 0:\n",
    "        df = df.append(df_template, ignore_index=True)\n",
    "    df.loc[x] = pd.DataFrame(dataset[0][x], index=[0]).values[0]"
   ]
  },
  {
   "cell_type": "code",
   "execution_count": 8,
   "metadata": {},
   "outputs": [],
   "source": [
    "df['date_time'] = ''"
   ]
  },
  {
   "cell_type": "code",
   "execution_count": 9,
   "metadata": {},
   "outputs": [],
   "source": [
    "for i in range(0, len(dataset)):\n",
    "    df['date_time'][i] = get_timestamp(i)\n",
    "\n",
    "cols = df.columns.tolist()\n",
    "cols = cols[-1:] + cols[:-1]\n",
    "df = df[cols]"
   ]
  },
  {
   "cell_type": "code",
   "execution_count": 10,
   "metadata": {},
   "outputs": [],
   "source": [
    "df['date_time'] = pd.to_datetime(df['date_time'])"
   ]
  },
  {
   "cell_type": "code",
   "execution_count": 11,
   "metadata": {},
   "outputs": [],
   "source": [
    "df = df.set_index(df['date_time'])"
   ]
  },
  {
   "cell_type": "code",
   "execution_count": 12,
   "metadata": {
    "scrolled": false
   },
   "outputs": [
    {
     "name": "stdout",
     "output_type": "stream",
     "text": [
      "<class 'pandas.core.frame.DataFrame'>\n",
      "DatetimeIndex: 1902 entries, 2020-11-26 05:15:22 to 2020-11-27 12:56:22\n",
      "Data columns (total 3 columns):\n",
      " #   Column     Non-Null Count  Dtype         \n",
      "---  ------     --------------  -----         \n",
      " 0   date_time  1902 non-null   datetime64[ns]\n",
      " 1   level      1902 non-null   object        \n",
      " 2   message    1902 non-null   object        \n",
      "dtypes: datetime64[ns](1), object(2)\n",
      "memory usage: 59.4+ KB\n"
     ]
    }
   ],
   "source": [
    "df.info()"
   ]
  },
  {
   "cell_type": "code",
   "execution_count": 13,
   "metadata": {},
   "outputs": [
    {
     "data": {
      "text/html": [
       "<div>\n",
       "<style scoped>\n",
       "    .dataframe tbody tr th:only-of-type {\n",
       "        vertical-align: middle;\n",
       "    }\n",
       "\n",
       "    .dataframe tbody tr th {\n",
       "        vertical-align: top;\n",
       "    }\n",
       "\n",
       "    .dataframe thead th {\n",
       "        text-align: right;\n",
       "    }\n",
       "</style>\n",
       "<table border=\"1\" class=\"dataframe\">\n",
       "  <thead>\n",
       "    <tr style=\"text-align: right;\">\n",
       "      <th></th>\n",
       "      <th>date_time</th>\n",
       "      <th>level</th>\n",
       "      <th>message</th>\n",
       "    </tr>\n",
       "    <tr>\n",
       "      <th>date_time</th>\n",
       "      <th></th>\n",
       "      <th></th>\n",
       "      <th></th>\n",
       "    </tr>\n",
       "  </thead>\n",
       "  <tbody>\n",
       "    <tr>\n",
       "      <th>2020-11-26 05:15:22</th>\n",
       "      <td>2020-11-26 05:15:22</td>\n",
       "      <td>info</td>\n",
       "      <td>Caution: Wet floor in terminal 1 - check in area</td>\n",
       "    </tr>\n",
       "    <tr>\n",
       "      <th>2020-11-26 05:16:22</th>\n",
       "      <td>2020-11-26 05:16:22</td>\n",
       "      <td>info</td>\n",
       "      <td>Mr. Mueller your flight is about to depart</td>\n",
       "    </tr>\n",
       "    <tr>\n",
       "      <th>2020-11-26 05:17:22</th>\n",
       "      <td>2020-11-26 05:17:22</td>\n",
       "      <td>warning</td>\n",
       "      <td>Mr.Schmidt please go to your flight.</td>\n",
       "    </tr>\n",
       "    <tr>\n",
       "      <th>2020-11-26 05:18:22</th>\n",
       "      <td>2020-11-26 05:18:22</td>\n",
       "      <td>warning</td>\n",
       "      <td>We kindly ask all passengers to not leave thei...</td>\n",
       "    </tr>\n",
       "    <tr>\n",
       "      <th>2020-11-26 05:19:22</th>\n",
       "      <td>2020-11-26 05:19:22</td>\n",
       "      <td>info</td>\n",
       "      <td>The restaurant in Terminal 2 are now open</td>\n",
       "    </tr>\n",
       "    <tr>\n",
       "      <th>...</th>\n",
       "      <td>...</td>\n",
       "      <td>...</td>\n",
       "      <td>...</td>\n",
       "    </tr>\n",
       "    <tr>\n",
       "      <th>2020-11-27 12:52:22</th>\n",
       "      <td>2020-11-27 12:52:22</td>\n",
       "      <td>info</td>\n",
       "      <td>Mr. Mueller your flight is about to depart</td>\n",
       "    </tr>\n",
       "    <tr>\n",
       "      <th>2020-11-27 12:53:22</th>\n",
       "      <td>2020-11-27 12:53:22</td>\n",
       "      <td>info</td>\n",
       "      <td>Welcome to the airport</td>\n",
       "    </tr>\n",
       "    <tr>\n",
       "      <th>2020-11-27 12:54:22</th>\n",
       "      <td>2020-11-27 12:54:22</td>\n",
       "      <td>info</td>\n",
       "      <td>Caution: Wet floor in terminal 1 - check in area</td>\n",
       "    </tr>\n",
       "    <tr>\n",
       "      <th>2020-11-27 12:55:22</th>\n",
       "      <td>2020-11-27 12:55:22</td>\n",
       "      <td>warning</td>\n",
       "      <td>Please wear your masks in the terminal and kee...</td>\n",
       "    </tr>\n",
       "    <tr>\n",
       "      <th>2020-11-27 12:56:22</th>\n",
       "      <td>2020-11-27 12:56:22</td>\n",
       "      <td>warning</td>\n",
       "      <td>Please wear your masks in the terminal and kee...</td>\n",
       "    </tr>\n",
       "  </tbody>\n",
       "</table>\n",
       "<p>1902 rows × 3 columns</p>\n",
       "</div>"
      ],
      "text/plain": [
       "                              date_time    level  \\\n",
       "date_time                                          \n",
       "2020-11-26 05:15:22 2020-11-26 05:15:22     info   \n",
       "2020-11-26 05:16:22 2020-11-26 05:16:22     info   \n",
       "2020-11-26 05:17:22 2020-11-26 05:17:22  warning   \n",
       "2020-11-26 05:18:22 2020-11-26 05:18:22  warning   \n",
       "2020-11-26 05:19:22 2020-11-26 05:19:22     info   \n",
       "...                                 ...      ...   \n",
       "2020-11-27 12:52:22 2020-11-27 12:52:22     info   \n",
       "2020-11-27 12:53:22 2020-11-27 12:53:22     info   \n",
       "2020-11-27 12:54:22 2020-11-27 12:54:22     info   \n",
       "2020-11-27 12:55:22 2020-11-27 12:55:22  warning   \n",
       "2020-11-27 12:56:22 2020-11-27 12:56:22  warning   \n",
       "\n",
       "                                                               message  \n",
       "date_time                                                               \n",
       "2020-11-26 05:15:22   Caution: Wet floor in terminal 1 - check in area  \n",
       "2020-11-26 05:16:22         Mr. Mueller your flight is about to depart  \n",
       "2020-11-26 05:17:22               Mr.Schmidt please go to your flight.  \n",
       "2020-11-26 05:18:22  We kindly ask all passengers to not leave thei...  \n",
       "2020-11-26 05:19:22          The restaurant in Terminal 2 are now open  \n",
       "...                                                                ...  \n",
       "2020-11-27 12:52:22         Mr. Mueller your flight is about to depart  \n",
       "2020-11-27 12:53:22                             Welcome to the airport  \n",
       "2020-11-27 12:54:22   Caution: Wet floor in terminal 1 - check in area  \n",
       "2020-11-27 12:55:22  Please wear your masks in the terminal and kee...  \n",
       "2020-11-27 12:56:22  Please wear your masks in the terminal and kee...  \n",
       "\n",
       "[1902 rows x 3 columns]"
      ]
     },
     "execution_count": 13,
     "metadata": {},
     "output_type": "execute_result"
    }
   ],
   "source": [
    "df"
   ]
  },
  {
   "cell_type": "code",
   "execution_count": 14,
   "metadata": {},
   "outputs": [
    {
     "data": {
      "text/html": [
       "<div>\n",
       "<style scoped>\n",
       "    .dataframe tbody tr th:only-of-type {\n",
       "        vertical-align: middle;\n",
       "    }\n",
       "\n",
       "    .dataframe tbody tr th {\n",
       "        vertical-align: top;\n",
       "    }\n",
       "\n",
       "    .dataframe thead th {\n",
       "        text-align: right;\n",
       "    }\n",
       "</style>\n",
       "<table border=\"1\" class=\"dataframe\">\n",
       "  <thead>\n",
       "    <tr style=\"text-align: right;\">\n",
       "      <th></th>\n",
       "      <th>date_time</th>\n",
       "    </tr>\n",
       "  </thead>\n",
       "  <tbody>\n",
       "    <tr>\n",
       "      <th>count</th>\n",
       "      <td>1902</td>\n",
       "    </tr>\n",
       "    <tr>\n",
       "      <th>mean</th>\n",
       "      <td>2020-11-26 21:05:52.000000256</td>\n",
       "    </tr>\n",
       "    <tr>\n",
       "      <th>min</th>\n",
       "      <td>2020-11-26 05:15:22</td>\n",
       "    </tr>\n",
       "    <tr>\n",
       "      <th>25%</th>\n",
       "      <td>2020-11-26 13:10:37</td>\n",
       "    </tr>\n",
       "    <tr>\n",
       "      <th>50%</th>\n",
       "      <td>2020-11-26 21:05:52</td>\n",
       "    </tr>\n",
       "    <tr>\n",
       "      <th>75%</th>\n",
       "      <td>2020-11-27 05:01:07</td>\n",
       "    </tr>\n",
       "    <tr>\n",
       "      <th>max</th>\n",
       "      <td>2020-11-27 12:56:22</td>\n",
       "    </tr>\n",
       "  </tbody>\n",
       "</table>\n",
       "</div>"
      ],
      "text/plain": [
       "                           date_time\n",
       "count                           1902\n",
       "mean   2020-11-26 21:05:52.000000256\n",
       "min              2020-11-26 05:15:22\n",
       "25%              2020-11-26 13:10:37\n",
       "50%              2020-11-26 21:05:52\n",
       "75%              2020-11-27 05:01:07\n",
       "max              2020-11-27 12:56:22"
      ]
     },
     "execution_count": 14,
     "metadata": {},
     "output_type": "execute_result"
    }
   ],
   "source": [
    "df.describe(datetime_is_numeric=True)"
   ]
  },
  {
   "cell_type": "code",
   "execution_count": 15,
   "metadata": {},
   "outputs": [
    {
     "data": {
      "text/plain": [
       "count     1902\n",
       "unique       2\n",
       "top       info\n",
       "freq      1051\n",
       "Name: level, dtype: object"
      ]
     },
     "execution_count": 15,
     "metadata": {},
     "output_type": "execute_result"
    }
   ],
   "source": [
    "df['level'].describe()"
   ]
  },
  {
   "cell_type": "code",
   "execution_count": 16,
   "metadata": {},
   "outputs": [
    {
     "data": {
      "text/plain": [
       "level\n",
       "info       1051\n",
       "warning     851\n",
       "dtype: int64"
      ]
     },
     "execution_count": 16,
     "metadata": {},
     "output_type": "execute_result"
    }
   ],
   "source": [
    "pt_level = df.pivot_table(index=['level'], aggfunc='size')\n",
    "pt_level"
   ]
  },
  {
   "cell_type": "code",
   "execution_count": 17,
   "metadata": {},
   "outputs": [
    {
     "data": {
      "text/plain": [
       "<AxesSubplot:ylabel='level'>"
      ]
     },
     "execution_count": 17,
     "metadata": {},
     "output_type": "execute_result"
    },
    {
     "data": {
      "image/png": "[encoded data removed]",
      "text/plain": [
       "<Figure size 432x288 with 1 Axes>"
      ]
     },
     "metadata": {
      "needs_background": "light"
     },
     "output_type": "display_data"
    }
   ],
   "source": [
    "pt_level.plot.barh()"
   ]
  },
  {
   "cell_type": "code",
   "execution_count": 18,
   "metadata": {},
   "outputs": [
    {
     "data": {
      "text/plain": [
       "count                                                  1902\n",
       "unique                                                    7\n",
       "top       We kindly ask all passengers to not leave thei...\n",
       "freq                                                    297\n",
       "Name: message, dtype: object"
      ]
     },
     "execution_count": 18,
     "metadata": {},
     "output_type": "execute_result"
    }
   ],
   "source": [
    "df['message'].describe()"
   ]
  },
  {
   "cell_type": "code",
   "execution_count": 19,
   "metadata": {},
   "outputs": [
    {
     "data": {
      "text/plain": [
       "message\n",
       "Caution: Wet floor in terminal 1 - check in area                     268\n",
       "Mr. Mueller your flight is about to depart                           269\n",
       "Mr.Schmidt please go to your flight.                                 281\n",
       "Please wear your masks in the terminal and keep distance             273\n",
       "The restaurant in Terminal 2 are now open                            272\n",
       "We kindly ask all passengers to not leave their baggage unatteded    297\n",
       "Welcome to the airport                                               242\n",
       "dtype: int64"
      ]
     },
     "execution_count": 19,
     "metadata": {},
     "output_type": "execute_result"
    }
   ],
   "source": [
    "pt_message = df.pivot_table(index=['message'], aggfunc='size')\n",
    "pt_message"
   ]
  },
  {
   "cell_type": "code",
   "execution_count": 20,
   "metadata": {},
   "outputs": [
    {
     "data": {
      "text/plain": [
       "<AxesSubplot:ylabel='message'>"
      ]
     },
     "execution_count": 20,
     "metadata": {},
     "output_type": "execute_result"
    },
    {
     "data": {
      "image/png": "[encoded data removed]",
      "text/plain": [
       "<Figure size 432x288 with 1 Axes>"
      ]
     },
     "metadata": {
      "needs_background": "light"
     },
     "output_type": "display_data"
    }
   ],
   "source": [
    "pt_message.plot.barh()"
   ]
  }
 ],
 "metadata": {
  "kernelspec": {
   "display_name": "Python 3",
   "language": "python",
   "name": "python3"
  },
  "language_info": {
   "codemirror_mode": {
    "name": "ipython",
    "version": 3
   },
   "file_extension": ".py",
   "mimetype": "text/x-python",
   "name": "python",
   "nbconvert_exporter": "python",
   "pygments_lexer": "ipython3",
   "version": "3.8.5"
  }
 },
 "nbformat": 4,
 "nbformat_minor": 4
}
